








import datetime as dt
import sys
import numpy as np
import towerpy as tp
import wradlib as wrl
from wradlib.dp import phidp_kdp_vulpiani as kdpvpi
import cartopy.crs as ccrs
LWDIR = '/home/dsanchez/sciebo_dsr/'
sys.path.append(LWDIR + 'codes/github/unibonnpd/')
from radar import twpext as tpx








START_TIME = dt.datetime(2021, 7, 14, 0, 0)

STOP_TIME = START_TIME + dt.timedelta(hours=24)

RADAR_SITE = 'Essen'

SCAN_ELEV = 'ppi_pcp'





RS_FILES = tpx.get_listfilesdwd(RADAR_SITE, START_TIME, STOP_TIME,
                               scan_elev=SCAN_ELEV)








PLOT_METHODS = True








LPFILE = RS_FILES[212]

rdata = tpx.Rad_scan(LPFILE, f'{RADAR_SITE}')
rdata.ppi_dwd(get_rvar='pvars', get_rawvars=True)

tp.datavis.rad_display.plot_setppi(rdata.georef, rdata.params, rdata.vars)
if PLOT_METHODS:
    # Plot cone coverage
    tp.datavis.rad_display.plot_cone_coverage(rdata.georef, rdata.params,
                                              rdata.vars,
                                              # var2plot='PhiDP [deg]',
                                              # var2plot='V [m/s]',
                                              # var2plot='rhoHV [-]',
                                              # var2plot='ZDR [dB]',
                                              limh=6,  zlims=[0, 6])








rhohv_theo, noise_lvl = (0.90, 1.1), None  # precip_scan

rcrho = tpx.rhoHV_Noise_Bias(rdata)
rcrho.iterate_radcst(rdata.georef, rdata.params, rdata.vars,
                     rhohv_theo=rhohv_theo, noise_lvl=noise_lvl,
                     data2correct=rdata.vars, plot_method=PLOT_METHODS)

if PLOT_METHODS:
    tp.datavis.rad_display.plot_ppidiff(
        rdata.georef, rdata.params, rdata.vars, rcrho.vars,
        var2plot1='rhoHV [-]', var2plot2='rhoHV [-]',
        ucmap_diff='tpylsc_div_dbu_rd', diff_lims=[-0.5, 0.5, .1])








rsnr = tp.eclass.snr.SNR_Classif(rdata)
if rdata.params['radar constant [dB]'] <= 0:
    min_snr = -rcrho.rhohv_corrs['Noise level [dB]']
else:
    min_snr = rcrho.rhohv_corrs['Noise level [dB]']
print(f"minSNR = {min_snr:.2f} dB")
rsnr.signalnoiseratio(rdata.georef, rdata.params, rcrho.vars, min_snr=min_snr,
                      data2correct=rcrho.vars, plot_method=PLOT_METHODS)








ropdp = tp.calib.calib_phidp.PhiDP_Calibration(rdata)

ropdp.offsetdetection_ppi(rsnr.vars, mode='median')
print(f'Phi_DP(0) = {np.median(ropdp.phidp_offset):.2f}')
ropdp.offset_correction(rsnr.vars['PhiDP [deg]'],
                        phidp_offset=ropdp.phidp_offset,
                        data2correct=rsnr.vars)

if PLOT_METHODS:
    tp.datavis.rad_display.plot_ppi(rdata.georef, rdata.params, rsnr.vars,
                                    var2plot='PhiDP [deg]')
    tp.datavis.rad_display.plot_ppi(rdata.georef, rdata.params, ropdp.vars,
                                    var2plot='PhiDP [deg]')

ropdp.vars['PhiDP [deg]'] = np.ascontiguousarray(
    wrl.dp.unfold_phi(ropdp.vars['PhiDP [deg]'],
                      ropdp.vars['rhoHV [-]'],
                      width=3, copy=True).astype(np.float64))

if PLOT_METHODS:
    tp.datavis.rad_display.plot_ppi(rdata.georef, rdata.params, ropdp.vars,
                                    var2plot='PhiDP [deg]')








rdata2 = tpx.Rad_scan(LPFILE, f'{RADAR_SITE}')
# DWD clutter map is not always available, these lines try to read such data
try:
    rdata2.ppi_dwd(get_rvar='cmap')

    cmap = 1 - tp.utils.radutilities.normalisenanvalues(
        rdata2.vars['cmap [0-1]'], np.nanmin(rdata2.vars['cmap [0-1]']),
        np.nanmax(rdata2.vars['cmap [0-1]']))
    cmap = np.nan_to_num(cmap, nan=1e-5)
    bclass = 207
    pass
except Exception:
    cmap = None
    bclass = 207 - 64
    print('No CL Map available')
    pass

rnme = tp.eclass.nme.NME_ID(ropdp)
rnme.lsinterference_filter(rdata.georef, rdata.params, ropdp.vars,
                           rhv_min=0.3, data2correct=ropdp.vars,
                           plot_method=PLOT_METHODS)
rnme.clutter_id(rdata.georef, rdata.params, rnme.vars, binary_class=bclass,
                min_snr=rsnr.min_snr, clmap=cmap, data2correct=rnme.vars,
                plot_method=PLOT_METHODS)








rmlyr = tp.ml.mlyr.MeltingLayer(rdata)
rmlyr.ml_top = 3.82
rmlyr.ml_bottom = 2.82
rmlyr.ml_thickness = rmlyr.ml_top - rmlyr.ml_bottom

rmlyr.ml_ppidelimitation(rdata.georef, rdata.params, rsnr.vars, 
                         plot_method=PLOT_METHODS)

if PLOT_METHODS:
    tp.datavis.rad_display.plot_setppi(rdata.georef, rdata.params, rnme.vars,
                                       mlyr=rmlyr)








rozdr = tp.calib.calib_zdr.ZDR_Calibration(rdata)
rozdr.offset_correction(rnme.vars['ZDR [dB]'], zdr_offset=-0.26,
                        data2correct=rnme.vars)
if PLOT_METHODS:
    tp.datavis.rad_display.plot_ppi(rdata.georef, rdata.params, rnme.vars,
                                    var2plot='ZDR [dB]')
    tp.datavis.rad_display.plot_ppi(rdata.georef, rdata.params, rozdr.vars,
                                    var2plot='ZDR [dB]')









att_alpha = [0.05, 0.1, 0.08]  # Light to moderate rain
att_alpha = [0.1, 0.18, 0.08]  # Moderate to heavy rain

rattc = tp.attc.attc_zhzdr.AttenuationCorrection(rdata)

rattc.attc_phidp_prepro(
    rdata.georef, rdata.params, rozdr.vars, rhohv_min=0.85,
    phidp0_correction=(True if (rattc.site_name == 'Offenthal')
                               or (rattc.site_name == 'Flechtdorf')
                               or (rattc.site_name == 'Neuheilenbach')
                               else False))

if PLOT_METHODS:
    tp.datavis.rad_display.plot_ppi(rdata.georef, rdata.params, rozdr.vars,
                                    var2plot='PhiDP [deg]')
    tp.datavis.rad_display.plot_ppi(rdata.georef, rdata.params, rattc.vars,
                                    var2plot='PhiDP [deg]')

rattc.zh_correction(rdata.georef, rdata.params, rattc.vars,
                    rnme.nme_classif['classif [EC]'], mlyr=rmlyr, pdp_dmin=1,
                    attc_method='ABRI', pdp_pxavr_azm=3,
                    pdp_pxavr_rng=round(4000/rdata.params['gateres [m]']),
                    coeff_a=[1e-5, 4.27e-5, 3e-05],
                    coeff_b=[0.73, 0.85, 0.78],
                    coeff_alpha=att_alpha,
                    plot_method=PLOT_METHODS)








temp = 15

rzhah = tp.attc.r_att_refl.Attn_Refl_Relation(rdata)
rzhah.ah_zh(rattc.vars, zh_upper_lim=55, temp=temp, rband='C',
            copy_ofr=True, data2correct=rattc.vars)
rattc.vars['ZH* [dBZ]'] = rzhah.vars['ZH [dBZ]']

mov_avrgf_len = (1, 7)
zh_difnan = np.where(rzhah.vars['diff [dBZ]'] == 0, np.nan,
                     rzhah.vars['diff [dBZ]'])
zhpdiff = np.array([np.nanmedian(i) if ~np.isnan(np.nanmedian(i))
                    else 0 for cnt, i in enumerate(zh_difnan)])
zhpdiff_pad = np.pad(zhpdiff, mov_avrgf_len[1]//2, mode='wrap')
zhplus_maf = np.ma.convolve(
    zhpdiff_pad, np.ones(mov_avrgf_len[1])/mov_avrgf_len[1],
    mode='valid')
rattc.vars['ZH+ [dBZ]'] = np.array(
    [rattc.vars['ZH [dBZ]'][cnt] - i if i == 0
     else rattc.vars['ZH [dBZ]'][cnt] - zhplus_maf[cnt]
     for cnt, i in enumerate(zhpdiff)])

if PLOT_METHODS:
    tp.datavis.rad_display.plot_ppidiff(
        rdata.georef, rdata.params, rattc.vars, rattc.vars,
        var2plot1='ZH [dBZ]', var2plot2='ZH+ [dBZ]')








zhzdr_a = 0.000249173
zhzdr_b = 2.33327
rb_a = 0.39  # Continental
rb_a = 0.14  # Tropical
rb_a = 0.27  # mid

rattc.zdr_correction(rdata.georef, rdata.params, rozdr.vars, rattc.vars,
                     rnme.nme_classif['classif [EC]'], mlyr=rmlyr, descr=True,
                     coeff_beta=[0.008, 0.1, 0.02], beta_alpha_ratio=rb_a,
                     rhv_thld=0.98, mov_avrgf_len=9, minbins=5, p2avrf=3,
                     attc_method='BRI', zh_zdr_model='exp',
                     rparams={'coeff_a': zhzdr_a, 'coeff_b': zhzdr_b},
                     plot_method=PLOT_METHODS)
if PLOT_METHODS:
    tp.datavis.rad_display.plot_ppidiff(rdata.georef, rdata.params, rozdr.vars,
                                        rattc.vars, var2plot1='ZDR [dB]',
                                        var2plot2='ZDR [dB]',
                                        diff_lims=[-5, 5, .5])








# KDP Vulpiani
zh_kdp = 'ZH+ [dBZ]'
rkdpv = {}
kdp_vulp = kdpvpi(rattc.vars['PhiDP [deg]'], winlen=3,
                  dr=rdata.params['gateres [m]']/1000, copy=True)
rkdpv['PhiDP [deg]'] = kdp_vulp[0]
rkdpv['KDP [deg/km]'] = kdp_vulp[1]

# Remove NME
rattc.vars['KDP* [deg/km]'] = np.where(rnme.ls_dsp_class['classif [EC]'] != 0,
                                       np.nan, rkdpv['KDP [deg/km]'])
# Remove negative KDP values within the rain region using a ZH threshold
rattc.vars['KDP* [deg/km]'] = np.where(
    (rmlyr.mlyr_limits['pcp_region [HC]'] == 1)
    & (rkdpv['KDP [deg/km]'] < 0) & (rattc.vars[zh_kdp] > 5),
    0, rattc.vars['KDP* [deg/km]'])
# Filter KDP by applying thresholds in ZH and rhoHV
rattc.vars['KDP+ [deg/km]'] = np.where(
    (rattc.vars[zh_kdp] >= 40) & (rattc.vars[zh_kdp] < 55)
    & (rozdr.vars['rhoHV [-]'] >= 0.95) & (rattc.vars['KDP [deg/km]'] != 0)
    & (~np.isnan(rattc.vars['KDP [deg/km]'])),
    rattc.vars['KDP [deg/km]'], rattc.vars['KDP* [deg/km]'])

if PLOT_METHODS:
    tp.datavis.rad_display.plot_ppidiff(
        rdata.georef, rdata.params, rattc.vars, rattc.vars,
        var2plot1='KDP* [deg/km]', var2plot2='KDP+ [deg/km]',
        diff_lims=[-1, 1, .25], vars_bounds={'KDP [deg/km]': (-0.7, 2.1, 17)})








rd_qcatc = tp.attc.attc_zhzdr.AttenuationCorrection(rdata)
rd_qcatc.georef = rdata.georef
rd_qcatc.params = rdata.params
rd_qcatc.vars = dict(rattc.vars)

rd_qcatc.vars = {}
rd_qcatc.vars['ZH [dBZ]'] = rattc.vars['ZH+ [dBZ]']
rd_qcatc.vars['ZDR [dB]'] = rattc.vars['ZDR [dB]']
rd_qcatc.vars['PhiDP [deg]'] = rattc.vars['PhiDP [deg]']
rd_qcatc.vars['rhoHV [-]'] = rozdr.vars['rhoHV [-]']
rd_qcatc.vars['AH [dB/km]'] = rattc.vars['AH [dB/km]']
rd_qcatc.vars['KDP [deg/km]'] = rattc.vars['KDP+ [deg/km]']

if PLOT_METHODS:
    tp.datavis.rad_display.plot_setppi(rd_qcatc.georef, rd_qcatc.params,
                                       rd_qcatc.vars, mlyr=rmlyr,
                                       vars_bounds={'AH [dB/km]': [0, 0.2, 17],
                                                    'KDP [deg/km]': [-0.7, 2.1, 17]})








# %matplotlib ipympl





if PLOT_METHODS:
    tp.datavis.rad_interactive.ppi_base(
        rd_qcatc.georef, rd_qcatc.params,
        rd_qcatc.vars,
        # var2plot='AH [dB/km]',
        vars_bounds={'AH [dB/km]': [0, 0.2, 17],
                     'KDP [deg/km]': [-0.7, 2.1, 17]},
        # radial_xlims=(10, 62.5),
        # radial_ylims={'PhiDP [deg]': (-5, 270)},
        # ppi_xlims=[-40, 40], ppi_ylims=[-40, 40]
        mlyr=rmlyr)
    ppiexplorer = tp.datavis.rad_interactive.PPI_Int()


# %matplotlib inline



